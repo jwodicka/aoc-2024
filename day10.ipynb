{
 "cells": [
  {
   "cell_type": "markdown",
   "metadata": {},
   "source": [
    "# Data"
   ]
  },
  {
   "cell_type": "code",
   "execution_count": null,
   "metadata": {
    "dotnet_interactive": {
     "language": "value"
    },
    "polyglot_notebook": {
     "kernelName": "value"
    }
   },
   "outputs": [
    {
     "data": {
      "text/plain": [
       "89010123\r\n",
       "78121874\r\n",
       "87430965\r\n",
       "96549874\r\n",
       "45678903\r\n",
       "32019012\r\n",
       "01329801\r\n",
       "10456732"
      ]
     },
     "metadata": {},
     "output_type": "display_data"
    }
   ],
   "source": [
    "#!value --name exampledata\n",
    "89010123\n",
    "78121874\n",
    "87430965\n",
    "96549874\n",
    "45678903\n",
    "32019012\n",
    "01329801\n",
    "10456732"
   ]
  },
  {
   "cell_type": "code",
   "execution_count": null,
   "metadata": {
    "dotnet_interactive": {
     "language": "value"
    },
    "polyglot_notebook": {
     "kernelName": "value"
    }
   },
   "outputs": [
    {
     "data": {
      "text/plain": [
       "21056789894321015012980123498787601045687\r\n",
       "32346543765601156703474544567896012138796\r\n",
       "10107632659892349821563678989345643029655\r\n",
       "23218101256781015430412101071234754910544\r\n",
       "14569870345432016321003012560109867801033\r\n",
       "05678963256789127879854303456078105932122\r\n",
       "18723450109898038910765210010563254541001\r\n",
       "69011201298788945125898998323454569679852\r\n",
       "78760345345654876034787677401235378089760\r\n",
       "89456896012503876965014586512765432123601\r\n",
       "32387987003412965872123298703890101984512\r\n",
       "01291876121101234989456107654965278854603\r\n",
       "00180145030980325678327890217874369763254\r\n",
       "14343232145671013454310691307893454610169\r\n",
       "23432165430110302169234582456732108905678\r\n",
       "96547078923231231078105673454321097214523\r\n",
       "87678432214348940987017894765870986341014\r\n",
       "96589541009857654320123765891963475498765\r\n",
       "01434630111766789010432143210452560167876\r\n",
       "32345721210951999016549054789301001456965\r\n",
       "21076890129810878321678945643219812332109\r\n",
       "78789001234723765430321238756106734323458\r\n",
       "09654160345654210389210109987005125010767\r\n",
       "12323271657601345678780125678014056541893\r\n",
       "25414987798542343456690034329123987932012\r\n",
       "56905677810439652987501145016510345801101\r\n",
       "67856298923128721987432156987421256789210\r\n",
       "22347107654098910876543087870330107654301\r\n",
       "11298231012347654305678898981278798987652\r\n",
       "00109545691056763211219767874569678690343\r\n",
       "12065456783345894320105656913450569541289\r\n",
       "43874321092132101899234541002321256632176\r\n",
       "54930010561001234788765432211056746789045\r\n",
       "67821123472390545654123101347849839874330\r\n",
       "78934010589487698763034567456931028765221\r\n",
       "67785697696590101672105698741022210540100\r\n",
       "58696788787781234589789789012013307632101\r\n",
       "49545459810170301075674654323454458989032\r\n",
       "30432365923965432165463210498569567976543\r\n",
       "21021876854876523678354112347678678875301\r\n",
       "30010966763987014589210001456565589765432"
      ]
     },
     "metadata": {},
     "output_type": "display_data"
    }
   ],
   "source": [
    "#!value --name data\n",
    "21056789894321015012980123498787601045687\n",
    "32346543765601156703474544567896012138796\n",
    "10107632659892349821563678989345643029655\n",
    "23218101256781015430412101071234754910544\n",
    "14569870345432016321003012560109867801033\n",
    "05678963256789127879854303456078105932122\n",
    "18723450109898038910765210010563254541001\n",
    "69011201298788945125898998323454569679852\n",
    "78760345345654876034787677401235378089760\n",
    "89456896012503876965014586512765432123601\n",
    "32387987003412965872123298703890101984512\n",
    "01291876121101234989456107654965278854603\n",
    "00180145030980325678327890217874369763254\n",
    "14343232145671013454310691307893454610169\n",
    "23432165430110302169234582456732108905678\n",
    "96547078923231231078105673454321097214523\n",
    "87678432214348940987017894765870986341014\n",
    "96589541009857654320123765891963475498765\n",
    "01434630111766789010432143210452560167876\n",
    "32345721210951999016549054789301001456965\n",
    "21076890129810878321678945643219812332109\n",
    "78789001234723765430321238756106734323458\n",
    "09654160345654210389210109987005125010767\n",
    "12323271657601345678780125678014056541893\n",
    "25414987798542343456690034329123987932012\n",
    "56905677810439652987501145016510345801101\n",
    "67856298923128721987432156987421256789210\n",
    "22347107654098910876543087870330107654301\n",
    "11298231012347654305678898981278798987652\n",
    "00109545691056763211219767874569678690343\n",
    "12065456783345894320105656913450569541289\n",
    "43874321092132101899234541002321256632176\n",
    "54930010561001234788765432211056746789045\n",
    "67821123472390545654123101347849839874330\n",
    "78934010589487698763034567456931028765221\n",
    "67785697696590101672105698741022210540100\n",
    "58696788787781234589789789012013307632101\n",
    "49545459810170301075674654323454458989032\n",
    "30432365923965432165463210498569567976543\n",
    "21021876854876523678354112347678678875301\n",
    "30010966763987014589210001456565589765432"
   ]
  },
  {
   "cell_type": "markdown",
   "metadata": {},
   "source": [
    "# Utilities"
   ]
  },
  {
   "cell_type": "code",
   "execution_count": null,
   "metadata": {
    "dotnet_interactive": {
     "language": "csharp"
    },
    "polyglot_notebook": {
     "kernelName": "csharp"
    }
   },
   "outputs": [],
   "source": [
    "void Print(object s) {\n",
    "    Console.WriteLine(s);\n",
    "}\n",
    "\n",
    "public static string DebugPrint<T>(this IEnumerable<T> self) =>\n",
    "        new StringBuilder(\"[\")\n",
    "            .AppendJoin(\", \", self)\n",
    "            .Append(']')\n",
    "            .ToString();"
   ]
  },
  {
   "cell_type": "markdown",
   "metadata": {},
   "source": [
    "### Imports"
   ]
  },
  {
   "cell_type": "code",
   "execution_count": null,
   "metadata": {
    "dotnet_interactive": {
     "language": "csharp"
    },
    "polyglot_notebook": {
     "kernelName": "csharp"
    }
   },
   "outputs": [],
   "source": [
    "using System;\n",
    "using System.Collections;\n",
    "using System.Text.RegularExpressions;\n",
    "using System.Linq;\n",
    "using Microsoft.DotNet.Interactive;"
   ]
  },
  {
   "cell_type": "markdown",
   "metadata": {},
   "source": [
    "### Data Selector"
   ]
  },
  {
   "cell_type": "code",
   "execution_count": null,
   "metadata": {
    "dotnet_interactive": {
     "language": "csharp"
    },
    "polyglot_notebook": {
     "kernelName": "csharp"
    }
   },
   "outputs": [],
   "source": [
    "#!set --name fullData --value @value:data\n",
    "#!set --name partialData --value @value:exampledata\n",
    "\n",
    "var rawdata = fullData;\n",
    "var data = rawdata.ReplaceLineEndings(\"\\n\");"
   ]
  },
  {
   "cell_type": "markdown",
   "metadata": {},
   "source": [
    "# Part 1"
   ]
  },
  {
   "cell_type": "code",
   "execution_count": null,
   "metadata": {},
   "outputs": [],
   "source": [
    "using Coord = (int R, int C);\n",
    "\n",
    "string[] stringMap = data.Split(\"\\n\");\n",
    "int[][] map = stringMap.Select(\n",
    "    line => line.ToCharArray().Select(c => int.Parse($\"{c}\")).ToArray()\n",
    ").ToArray();\n",
    "\n",
    "int width = map[0].Length;\n",
    "int height = map.Length;\n",
    "\n",
    "bool IsInBounds(Coord c) {\n",
    "    if (c.R < 0 || c.C < 0) return false;\n",
    "    if (c.R >= width || c.C >= height) return false;\n",
    "    return true;\n",
    "}\n",
    "public static Coord Add(Coord a, Coord b) => (a.R + b.R, a.C + b.C);\n",
    "\n",
    "Coord[] directions = [(0, +1), (0, -1), (+1, 0), (-1, 0)];\n",
    "\n",
    "IEnumerable<Coord> ReachablePeaksFrom(Coord p) {\n",
    "    // Get value at Coord\n",
    "    int value = map[p.R][p.C];\n",
    "    if (value == 9)\n",
    "        return [p];\n",
    "    \n",
    "    HashSet<Coord> Peaks = [];\n",
    "    foreach (var dir in directions) {\n",
    "        var target = Add(p, dir);\n",
    "        if (IsInBounds(target) && map[target.R][target.C] == value +1) {\n",
    "            Peaks.UnionWith(ReachablePeaksFrom(target));\n",
    "        }\n",
    "    }\n",
    "    return Peaks;\n",
    "}"
   ]
  },
  {
   "cell_type": "code",
   "execution_count": null,
   "metadata": {},
   "outputs": [
    {
     "data": {
      "text/html": [
       "<div class=\"dni-plaintext\"><pre>535</pre></div><style>\r\n",
       ".dni-code-hint {\r\n",
       "    font-style: italic;\r\n",
       "    overflow: hidden;\r\n",
       "    white-space: nowrap;\r\n",
       "}\r\n",
       ".dni-treeview {\r\n",
       "    white-space: nowrap;\r\n",
       "}\r\n",
       ".dni-treeview td {\r\n",
       "    vertical-align: top;\r\n",
       "    text-align: start;\r\n",
       "}\r\n",
       "details.dni-treeview {\r\n",
       "    padding-left: 1em;\r\n",
       "}\r\n",
       "table td {\r\n",
       "    text-align: start;\r\n",
       "}\r\n",
       "table tr { \r\n",
       "    vertical-align: top; \r\n",
       "    margin: 0em 0px;\r\n",
       "}\r\n",
       "table tr td pre \r\n",
       "{ \r\n",
       "    vertical-align: top !important; \r\n",
       "    margin: 0em 0px !important;\r\n",
       "} \r\n",
       "table th {\r\n",
       "    text-align: start;\r\n",
       "}\r\n",
       "</style>"
      ]
     },
     "metadata": {},
     "output_type": "display_data"
    }
   ],
   "source": [
    "int result = 0;\n",
    "for (int r = 0; r < height; r++) {\n",
    "    for (int c = 0; c < width; c++) {\n",
    "        if (map[r][c] == 0) {\n",
    "            var peaks = ReachablePeaksFrom((r, c));\n",
    "            result += peaks.Count();\n",
    "        }\n",
    "    }\n",
    "}\n",
    "\n",
    "result"
   ]
  },
  {
   "cell_type": "markdown",
   "metadata": {},
   "source": [
    "# Part 2"
   ]
  },
  {
   "cell_type": "code",
   "execution_count": null,
   "metadata": {},
   "outputs": [],
   "source": [
    "int ReachablePathsFrom(Coord p) {\n",
    "    // Get value at Coord\n",
    "    int value = map[p.R][p.C];\n",
    "    if (value == 9)\n",
    "        return 1;\n",
    "    \n",
    "    int result = 0;\n",
    "    foreach (var dir in directions) {\n",
    "        var target = Add(p, dir);\n",
    "        if (IsInBounds(target) && map[target.R][target.C] == value +1) {\n",
    "            result += ReachablePathsFrom(target);\n",
    "        }\n",
    "    }\n",
    "    return result;\n",
    "}"
   ]
  },
  {
   "cell_type": "code",
   "execution_count": null,
   "metadata": {},
   "outputs": [
    {
     "data": {
      "text/html": [
       "<div class=\"dni-plaintext\"><pre>1186</pre></div><style>\r\n",
       ".dni-code-hint {\r\n",
       "    font-style: italic;\r\n",
       "    overflow: hidden;\r\n",
       "    white-space: nowrap;\r\n",
       "}\r\n",
       ".dni-treeview {\r\n",
       "    white-space: nowrap;\r\n",
       "}\r\n",
       ".dni-treeview td {\r\n",
       "    vertical-align: top;\r\n",
       "    text-align: start;\r\n",
       "}\r\n",
       "details.dni-treeview {\r\n",
       "    padding-left: 1em;\r\n",
       "}\r\n",
       "table td {\r\n",
       "    text-align: start;\r\n",
       "}\r\n",
       "table tr { \r\n",
       "    vertical-align: top; \r\n",
       "    margin: 0em 0px;\r\n",
       "}\r\n",
       "table tr td pre \r\n",
       "{ \r\n",
       "    vertical-align: top !important; \r\n",
       "    margin: 0em 0px !important;\r\n",
       "} \r\n",
       "table th {\r\n",
       "    text-align: start;\r\n",
       "}\r\n",
       "</style>"
      ]
     },
     "metadata": {},
     "output_type": "display_data"
    }
   ],
   "source": [
    "int result = 0;\n",
    "for (int r = 0; r < height; r++) {\n",
    "    for (int c = 0; c < width; c++) {\n",
    "        if (map[r][c] == 0) {\n",
    "            var paths = ReachablePathsFrom((r, c));\n",
    "            result += paths;\n",
    "        }\n",
    "    }\n",
    "}\n",
    "\n",
    "result"
   ]
  }
 ],
 "metadata": {
  "kernelspec": {
   "display_name": ".NET (C#)",
   "language": "C#",
   "name": ".net-csharp"
  },
  "polyglot_notebook": {
   "kernelInfo": {
    "defaultKernelName": "csharp",
    "items": [
     {
      "aliases": [],
      "languageName": "csharp",
      "name": "csharp"
     }
    ]
   }
  }
 },
 "nbformat": 4,
 "nbformat_minor": 2
}
