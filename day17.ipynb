{
 "cells": [
  {
   "cell_type": "markdown",
   "metadata": {},
   "source": [
    "# Data"
   ]
  },
  {
   "cell_type": "code",
   "execution_count": null,
   "metadata": {
    "dotnet_interactive": {
     "language": "value"
    },
    "polyglot_notebook": {
     "kernelName": "value"
    }
   },
   "outputs": [
    {
     "data": {
      "text/plain": [
       "Register A: 729\n",
       "Register B: 0\n",
       "Register C: 0\n",
       "\n",
       "Program: 0,1,5,4,3,0"
      ]
     },
     "metadata": {},
     "output_type": "display_data"
    }
   ],
   "source": [
    "#!value --name exampledata\n",
    "Register A: 729\n",
    "Register B: 0\n",
    "Register C: 0\n",
    "\n",
    "Program: 0,1,5,4,3,0"
   ]
  },
  {
   "cell_type": "code",
   "execution_count": null,
   "metadata": {
    "dotnet_interactive": {
     "language": "csharp"
    },
    "polyglot_notebook": {
     "kernelName": "csharp"
    }
   },
   "outputs": [
    {
     "data": {
      "text/plain": [
       "Register A: 2024\n",
       "Register B: 0\n",
       "Register C: 0\n",
       "\n",
       "Program: 0,3,5,4,3,0"
      ]
     },
     "metadata": {},
     "output_type": "display_data"
    }
   ],
   "source": [
    "#!value --name exampledata2\n",
    "Register A: 2024\n",
    "Register B: 0\n",
    "Register C: 0\n",
    "\n",
    "Program: 0,3,5,4,3,0"
   ]
  },
  {
   "cell_type": "code",
   "execution_count": null,
   "metadata": {
    "dotnet_interactive": {
     "language": "value"
    },
    "polyglot_notebook": {
     "kernelName": "value"
    }
   },
   "outputs": [
    {
     "data": {
      "text/plain": [
       "Register A: 25358015\n",
       "Register B: 0\n",
       "Register C: 0\n",
       "\n",
       "Program: 2,4,1,1,7,5,0,3,4,7,1,6,5,5,3,0"
      ]
     },
     "metadata": {},
     "output_type": "display_data"
    }
   ],
   "source": [
    "#!value --name data\n",
    "Register A: 25358015\n",
    "Register B: 0\n",
    "Register C: 0\n",
    "\n",
    "Program: 2,4,1,1,7,5,0,3,4,7,1,6,5,5,3,0"
   ]
  },
  {
   "cell_type": "markdown",
   "metadata": {},
   "source": [
    "# Utilities"
   ]
  },
  {
   "cell_type": "code",
   "execution_count": null,
   "metadata": {
    "dotnet_interactive": {
     "language": "csharp"
    },
    "polyglot_notebook": {
     "kernelName": "csharp"
    }
   },
   "outputs": [],
   "source": [
    "void Print(object s) {\n",
    "    Console.WriteLine(s);\n",
    "}\n",
    "\n",
    "public static string DebugPrint<T>(this IEnumerable<T> self) =>\n",
    "        new StringBuilder(\"[\")\n",
    "            .AppendJoin(\", \", self)\n",
    "            .Append(']')\n",
    "            .ToString();"
   ]
  },
  {
   "cell_type": "markdown",
   "metadata": {},
   "source": [
    "### Imports"
   ]
  },
  {
   "cell_type": "code",
   "execution_count": null,
   "metadata": {
    "dotnet_interactive": {
     "language": "csharp"
    },
    "polyglot_notebook": {
     "kernelName": "csharp"
    }
   },
   "outputs": [],
   "source": [
    "using System;\n",
    "using System.Collections;\n",
    "using System.Text.RegularExpressions;\n",
    "using System.Linq;\n",
    "using System.Diagnostics;\n",
    "using System.Numerics;"
   ]
  },
  {
   "cell_type": "markdown",
   "metadata": {},
   "source": [
    "### Data Selector"
   ]
  },
  {
   "cell_type": "code",
   "execution_count": null,
   "metadata": {
    "dotnet_interactive": {
     "language": "csharp"
    },
    "polyglot_notebook": {
     "kernelName": "csharp"
    }
   },
   "outputs": [],
   "source": [
    "#!set --name fullData --value @value:data\n",
    "#!set --name partialData --value @value:exampledata\n",
    "#!set --name partialData2 --value @value:exampledata2\n",
    "\n",
    "var rawdata = fullData;\n",
    "var data = rawdata.ReplaceLineEndings(\"\\n\");"
   ]
  },
  {
   "cell_type": "markdown",
   "metadata": {},
   "source": [
    "# Part 1"
   ]
  },
  {
   "cell_type": "code",
   "execution_count": null,
   "metadata": {
    "dotnet_interactive": {
     "language": "csharp"
    },
    "polyglot_notebook": {
     "kernelName": "csharp"
    }
   },
   "outputs": [],
   "source": [
    "enum Op {\n",
    "    ADV = 0,\n",
    "    BXL = 1,\n",
    "    BST = 2,\n",
    "    JNZ = 3,\n",
    "    BXC = 4,\n",
    "    OUT = 5,\n",
    "    BDV = 6,\n",
    "    CDV = 7\n",
    "}"
   ]
  },
  {
   "cell_type": "code",
   "execution_count": null,
   "metadata": {
    "dotnet_interactive": {
     "language": "csharp"
    },
    "polyglot_notebook": {
     "kernelName": "csharp"
    }
   },
   "outputs": [],
   "source": [
    "Regex regARegex = new(@\"^Register A: (\\d+)$\", RegexOptions.Multiline);\n",
    "Regex regBRegex = new(@\"^Register B: (\\d+)$\", RegexOptions.Multiline);\n",
    "Regex regCRegex = new(@\"^Register C: (\\d+)$\", RegexOptions.Multiline);\n",
    "Regex programRegex = new(@\"^Program: ((?:\\d,)+\\d)$\", RegexOptions.Multiline);\n",
    "\n",
    "\n",
    "BigInteger InitialA = BigInteger.Parse(regARegex.Match(data).Groups[1].Value);\n",
    "BigInteger InitialB = BigInteger.Parse(regBRegex.Match(data).Groups[1].Value);\n",
    "BigInteger InitialC = BigInteger.Parse(regCRegex.Match(data).Groups[1].Value);\n",
    "List<short> Program = programRegex.Match(data).Groups[1].Value.Split(\",\").Select(s => short.Parse(s)).ToList();"
   ]
  },
  {
   "cell_type": "code",
   "execution_count": null,
   "metadata": {
    "dotnet_interactive": {
     "language": "csharp"
    },
    "polyglot_notebook": {
     "kernelName": "csharp"
    }
   },
   "outputs": [],
   "source": [
    "struct State {\n",
    "    public BigInteger A;\n",
    "    public BigInteger B;\n",
    "    public BigInteger C;\n",
    "    public int IP;\n",
    "    public List<BigInteger> Output;\n",
    "\n",
    "    public State(){\n",
    "        IP = 0;\n",
    "        Output = [];\n",
    "    }\n",
    "    public State(State prior) {\n",
    "        A = prior.A;\n",
    "        B = prior.B;\n",
    "        C = prior.C;\n",
    "        IP = prior.IP + 2;\n",
    "        Output = [..prior.Output];\n",
    "    }\n",
    "}\n",
    "\n",
    "State initialState = new() {\n",
    "    A = InitialA,\n",
    "    B = InitialB,\n",
    "    C = InitialC,\n",
    "};"
   ]
  },
  {
   "cell_type": "code",
   "execution_count": null,
   "metadata": {
    "dotnet_interactive": {
     "language": "csharp"
    },
    "polyglot_notebook": {
     "kernelName": "csharp"
    }
   },
   "outputs": [],
   "source": [
    "State state1 = new State() {\n",
    "    A = 1,\n",
    "    B = 2,\n",
    "    C = 3,\n",
    "};\n",
    "\n",
    "// display(state1);\n",
    "// display(new State(state1) {\n",
    "//     A = 7\n",
    "// });"
   ]
  },
  {
   "cell_type": "code",
   "execution_count": null,
   "metadata": {
    "dotnet_interactive": {
     "language": "csharp"
    },
    "polyglot_notebook": {
     "kernelName": "csharp"
    }
   },
   "outputs": [],
   "source": [
    "// Assume that we have already checked that the IP has not walked off the end!\n",
    "State RunStep(List<short> Program, State curr) {\n",
    "    BigInteger Combo(int ptr) =>\n",
    "        ptr switch {\n",
    "            0 => 0,\n",
    "            1 => 1,\n",
    "            2 => 2,\n",
    "            3 => 3,\n",
    "            4 => curr.A,\n",
    "            5 => curr.B,\n",
    "            6 => curr.C,\n",
    "            _ => throw new InvalidProgramException()\n",
    "        };\n",
    "\n",
    "    // display(((Op)Program[curr.IP], Program[curr.IP + 1]));\n",
    "\n",
    "    return ((Op)Program[curr.IP], Program[curr.IP + 1]) switch {\n",
    "        (Op.ADV, short operand) => new State(curr) {\n",
    "            A = curr.A / BigInteger.Pow(2, (int)Combo(operand))\n",
    "        },\n",
    "        (Op.BDV, short operand) => new State(curr) {\n",
    "            B = curr.A / BigInteger.Pow(2, (int)Combo(operand))\n",
    "        },\n",
    "        (Op.CDV, short operand) => new State(curr) {\n",
    "            C = curr.A / BigInteger.Pow(2, (int)Combo(operand))\n",
    "        },\n",
    "        (Op.BXL, short operand) => new State(curr) {\n",
    "            B = curr.B ^ operand\n",
    "        },\n",
    "        (Op.BST, short operand) => new State(curr) {\n",
    "            B = Combo(operand) % 8\n",
    "        },\n",
    "        (Op.JNZ, short operand) => curr.A == 0 ? new State(curr) : new State(curr) {\n",
    "            IP = operand\n",
    "        },\n",
    "        (Op.BXC, _) => new State(curr) {\n",
    "            B = curr.B ^ curr.C\n",
    "        },\n",
    "        (Op.OUT, short operand) => new State(curr) {\n",
    "            Output = [..curr.Output, Combo(operand) % 8]\n",
    "        }\n",
    "    };\n",
    "}"
   ]
  },
  {
   "cell_type": "code",
   "execution_count": null,
   "metadata": {
    "dotnet_interactive": {
     "language": "csharp"
    },
    "polyglot_notebook": {
     "kernelName": "csharp"
    }
   },
   "outputs": [
    {
     "data": {
      "text/plain": [
       "2,7,2,5,1,2,7,3,7"
      ]
     },
     "metadata": {},
     "output_type": "display_data"
    }
   ],
   "source": [
    "string RunProgram(List<short> program, State initialState) {\n",
    "    State state = initialState;\n",
    "    int steps = 0;\n",
    "    while(state.IP < program.Count) {\n",
    "        // display((steps, state));\n",
    "        state = RunStep(program, state);\n",
    "        steps++;\n",
    "    }\n",
    "    return String.Join(',', state.Output);\n",
    "}\n",
    "\n",
    "RunProgram(Program, initialState)"
   ]
  },
  {
   "cell_type": "markdown",
   "metadata": {},
   "source": [
    "# Part 2"
   ]
  },
  {
   "cell_type": "code",
   "execution_count": null,
   "metadata": {
    "dotnet_interactive": {
     "language": "csharp"
    },
    "polyglot_notebook": {
     "kernelName": "csharp"
    }
   },
   "outputs": [],
   "source": [
    "struct State {\n",
    "    public BigInteger A;\n",
    "    public BigInteger B;\n",
    "    public BigInteger C;\n",
    "    public int IP;\n",
    "    public List<BigInteger> Output;\n",
    "\n",
    "    public State(){\n",
    "        IP = 0;\n",
    "        Output = [];\n",
    "    }\n",
    "    public State(State prior) {\n",
    "        A = prior.A;\n",
    "        B = prior.B;\n",
    "        C = prior.C;\n",
    "        IP = prior.IP + 2;\n",
    "        Output = [..prior.Output];\n",
    "    }\n",
    "    public string StringOutput() => String.Join(',', Output);\n",
    "    public string ID() => $\"{A}|{B}|{C}|{IP}\";\n",
    "}\n",
    "\n",
    "State initialState = new() {\n",
    "    A = InitialA,\n",
    "    B = InitialB,\n",
    "    C = InitialC,\n",
    "};"
   ]
  },
  {
   "cell_type": "code",
   "execution_count": null,
   "metadata": {
    "dotnet_interactive": {
     "language": "csharp"
    },
    "polyglot_notebook": {
     "kernelName": "csharp"
    }
   },
   "outputs": [],
   "source": [
    "// Assume that we have already checked that the IP has not walked off the end!\n",
    "State RunStep(List<short> Program, State curr) {\n",
    "    BigInteger Combo(int ptr) =>\n",
    "        ptr switch {\n",
    "            0 => 0,\n",
    "            1 => 1,\n",
    "            2 => 2,\n",
    "            3 => 3,\n",
    "            4 => curr.A,\n",
    "            5 => curr.B,\n",
    "            6 => curr.C,\n",
    "            _ => throw new InvalidProgramException()\n",
    "        };\n",
    "\n",
    "    // display(((Op)Program[curr.IP], Program[curr.IP + 1]));\n",
    "\n",
    "    return ((Op)Program[curr.IP], Program[curr.IP + 1]) switch {\n",
    "        (Op.ADV, short operand) => new State(curr) {\n",
    "            A = curr.A / BigInteger.Pow(2, (int)Combo(operand))\n",
    "        },\n",
    "        (Op.BDV, short operand) => new State(curr) {\n",
    "            B = curr.A / BigInteger.Pow(2, (int)Combo(operand))\n",
    "        },\n",
    "        (Op.CDV, short operand) => new State(curr) {\n",
    "            C = curr.A / BigInteger.Pow(2, (int)Combo(operand))\n",
    "        },\n",
    "        (Op.BXL, short operand) => new State(curr) {\n",
    "            B = curr.B ^ operand\n",
    "        },\n",
    "        (Op.BST, short operand) => new State(curr) {\n",
    "            B = Combo(operand) % 8\n",
    "        },\n",
    "        (Op.JNZ, short operand) => curr.A == 0 ? new State(curr) : new State(curr) {\n",
    "            IP = operand\n",
    "        },\n",
    "        (Op.BXC, _) => new State(curr) {\n",
    "            B = curr.B ^ curr.C\n",
    "        },\n",
    "        (Op.OUT, short operand) => new State(curr) {\n",
    "            Output = [..curr.Output, Combo(operand) % 8]\n",
    "        }\n",
    "    };\n",
    "}"
   ]
  },
  {
   "cell_type": "code",
   "execution_count": null,
   "metadata": {
    "dotnet_interactive": {
     "language": "csharp"
    },
    "polyglot_notebook": {
     "kernelName": "csharp"
    }
   },
   "outputs": [],
   "source": [
    "public static string ToOctalString(this BigInteger bigint) {\n",
    "    var bytes = bigint.ToByteArray();\n",
    "    var idx = bytes.Length - 1;\n",
    "\n",
    "    // Create a StringBuilder having appropriate capacity.\n",
    "    var base8 = new StringBuilder(((bytes.Length / 3) + 1) * 8);\n",
    "\n",
    "    // Calculate how many bytes are extra when byte array is split\n",
    "    // into three-byte (24-bit) chunks.\n",
    "    var extra = bytes.Length % 3;\n",
    "\n",
    "    // If no bytes are extra, use three bytes for first chunk.\n",
    "    if (extra == 0)\n",
    "    {\n",
    "      extra = 3;\n",
    "    }\n",
    "\n",
    "    // Convert first chunk (24-bits) to integer value.\n",
    "    int int24 = 0;\n",
    "    for (; extra != 0; extra--)\n",
    "    {\n",
    "      int24 <<= 8;\n",
    "      int24 += bytes[idx--];\n",
    "    }\n",
    "\n",
    "    // Convert 24-bit integer to octal without adding leading zeros.\n",
    "    var octal = Convert.ToString(int24, 8);\n",
    "\n",
    "    // Ensure leading zero exists if value is positive.\n",
    "    if (octal[0] != '0' && bigint.Sign == 1)\n",
    "    {\n",
    "      base8.Append('0');\n",
    "    }\n",
    "\n",
    "    // Append first converted chunk to StringBuilder.\n",
    "    base8.Append(octal);\n",
    "\n",
    "    // Convert remaining 24-bit chunks, adding leading zeros.\n",
    "    for (; idx >= 0; idx -= 3)\n",
    "    {\n",
    "      int24 = (bytes[idx] << 16) + (bytes[idx - 1] << 8) + bytes[idx - 2];\n",
    "      base8.Append(Convert.ToString(int24, 8).PadLeft(8, '0'));\n",
    "    }\n",
    "\n",
    "    return base8.ToString();\n",
    "}"
   ]
  },
  {
   "cell_type": "code",
   "execution_count": null,
   "metadata": {
    "dotnet_interactive": {
     "language": "csharp"
    },
    "polyglot_notebook": {
     "kernelName": "csharp"
    }
   },
   "outputs": [
    {
     "data": {
      "text/html": [
       "<table><thead><tr><th><i>index</i></th><th>value</th></tr></thead><tbody><tr><td>0</td><td><div class=\"dni-plaintext\"><pre>2</pre></div></td></tr><tr><td>1</td><td><div class=\"dni-plaintext\"><pre>7</pre></div></td></tr><tr><td>2</td><td><div class=\"dni-plaintext\"><pre>2</pre></div></td></tr><tr><td>3</td><td><div class=\"dni-plaintext\"><pre>5</pre></div></td></tr><tr><td>4</td><td><div class=\"dni-plaintext\"><pre>1</pre></div></td></tr><tr><td>5</td><td><div class=\"dni-plaintext\"><pre>2</pre></div></td></tr><tr><td>6</td><td><div class=\"dni-plaintext\"><pre>7</pre></div></td></tr><tr><td>7</td><td><div class=\"dni-plaintext\"><pre>3</pre></div></td></tr><tr><td>8</td><td><div class=\"dni-plaintext\"><pre>7</pre></div></td></tr></tbody></table><style>\r\n",
       ".dni-code-hint {\r\n",
       "    font-style: italic;\r\n",
       "    overflow: hidden;\r\n",
       "    white-space: nowrap;\r\n",
       "}\r\n",
       ".dni-treeview {\r\n",
       "    white-space: nowrap;\r\n",
       "}\r\n",
       ".dni-treeview td {\r\n",
       "    vertical-align: top;\r\n",
       "    text-align: start;\r\n",
       "}\r\n",
       "details.dni-treeview {\r\n",
       "    padding-left: 1em;\r\n",
       "}\r\n",
       "table td {\r\n",
       "    text-align: start;\r\n",
       "}\r\n",
       "table tr { \r\n",
       "    vertical-align: top; \r\n",
       "    margin: 0em 0px;\r\n",
       "}\r\n",
       "table tr td pre \r\n",
       "{ \r\n",
       "    vertical-align: top !important; \r\n",
       "    margin: 0em 0px !important;\r\n",
       "} \r\n",
       "table th {\r\n",
       "    text-align: start;\r\n",
       "}\r\n",
       "</style>"
      ]
     },
     "metadata": {},
     "output_type": "display_data"
    }
   ],
   "source": [
    "HashSet<string> SeenStates = [];\n",
    "\n",
    "List<BigInteger> RunProgram(List<short> program, State initialState, string targetOutput = \"\") {\n",
    "    State state = initialState;\n",
    "    int steps = 0;\n",
    "    // BigInteger lastKnownA = 0;\n",
    "    string lastKnownOutput = \"\";\n",
    "    while(state.IP < program.Count) {\n",
    "        // if (state.A != lastKnownA) {\n",
    "        //     display(state.A.ToOctalString());\n",
    "        //     lastKnownA = state.A;\n",
    "        // }\n",
    "        if (state.StringOutput() != lastKnownOutput) {\n",
    "           lastKnownOutput = state.StringOutput();\n",
    "        //    display((state.A.ToOctalString(), state.B.ToOctalString(), state.C.ToOctalString()));\n",
    "        }\n",
    "        // string id = state.ID();\n",
    "        // if (SeenStates.Contains(id)) {\n",
    "        //     return \"SEEN\";\n",
    "        // }\n",
    "        // SeenStates.Add(id);\n",
    "        if (targetOutput.Length > 0 && !targetOutput.StartsWith(state.StringOutput())) {\n",
    "            return null;\n",
    "        }\n",
    "\n",
    "        // display((steps, state));\n",
    "        state = RunStep(program, state);\n",
    "        steps++;\n",
    "    }\n",
    "    return state.Output;\n",
    "}\n",
    "\n",
    "RunProgram(Program, initialState)"
   ]
  },
  {
   "cell_type": "code",
   "execution_count": null,
   "metadata": {
    "dotnet_interactive": {
     "language": "csharp"
    },
    "polyglot_notebook": {
     "kernelName": "csharp"
    }
   },
   "outputs": [
    {
     "data": {
      "text/html": [
       "<div class=\"dni-plaintext\"><pre>&lt;null&gt;</pre></div><style>\r\n",
       ".dni-code-hint {\r\n",
       "    font-style: italic;\r\n",
       "    overflow: hidden;\r\n",
       "    white-space: nowrap;\r\n",
       "}\r\n",
       ".dni-treeview {\r\n",
       "    white-space: nowrap;\r\n",
       "}\r\n",
       ".dni-treeview td {\r\n",
       "    vertical-align: top;\r\n",
       "    text-align: start;\r\n",
       "}\r\n",
       "details.dni-treeview {\r\n",
       "    padding-left: 1em;\r\n",
       "}\r\n",
       "table td {\r\n",
       "    text-align: start;\r\n",
       "}\r\n",
       "table tr { \r\n",
       "    vertical-align: top; \r\n",
       "    margin: 0em 0px;\r\n",
       "}\r\n",
       "table tr td pre \r\n",
       "{ \r\n",
       "    vertical-align: top !important; \r\n",
       "    margin: 0em 0px !important;\r\n",
       "} \r\n",
       "table th {\r\n",
       "    text-align: start;\r\n",
       "}\r\n",
       "</style>"
      ]
     },
     "metadata": {},
     "output_type": "display_data"
    }
   ],
   "source": [
    "return; \n",
    "string target = String.Join(',', Program);\n",
    "display(target);\n",
    "\n",
    "string result = \"\";\n",
    "State state = new State(initialState) {\n",
    "    A = -1,\n",
    "    IP = 0,\n",
    "};\n",
    "\n",
    "SeenStates.Clear();\n",
    "Stopwatch timeout = Stopwatch.StartNew();\n",
    "\n",
    "while (result != target && timeout.Elapsed < TimeSpan.FromSeconds(10)) {\n",
    "    state = new State(state) {\n",
    "        A = state.A + 1,\n",
    "        IP = 0,\n",
    "    };\n",
    "    // HACK! This is not going to give valid output but it compiles\n",
    "    result = RunProgram(Program, state, target).ToString();\n",
    "    // if (loopTime.Elapsed > TimeSpan.FromMilliseconds(15)) {\n",
    "    //     break;\n",
    "    // }\n",
    "    // loopTime.Restart();\n",
    "}\n",
    "display(state);\n"
   ]
  },
  {
   "cell_type": "code",
   "execution_count": null,
   "metadata": {
    "dotnet_interactive": {
     "language": "csharp"
    },
    "polyglot_notebook": {
     "kernelName": "csharp"
    }
   },
   "outputs": [],
   "source": [
    "void VisualizeProgram(List<short> program) {\n",
    "    for(int i = 0; i < program.Count; i+= 2) {\n",
    "        display(((Op)program[i], program[i+1]));\n",
    "    }\n",
    "}\n",
    "// VisualizeProgram(Program);"
   ]
  },
  {
   "cell_type": "code",
   "execution_count": null,
   "metadata": {
    "dotnet_interactive": {
     "language": "csharp"
    },
    "polyglot_notebook": {
     "kernelName": "csharp"
    }
   },
   "outputs": [],
   "source": [
    "// display(RunProgram(Program, new State() { A = 0 }));\n",
    "// display(RunProgram(Program, new State() { A = 1 }));\n",
    "\n",
    "// for (int i = 0b001_000_000_000; i < Math.Pow(8, 4); i = i + 0b001_000) {\n",
    "//     Print($\"{Convert.ToString(i, 8)} {RunProgram(Program, new State() {A = i})}\");\n",
    "// }"
   ]
  },
  {
   "cell_type": "code",
   "execution_count": null,
   "metadata": {
    "dotnet_interactive": {
     "language": "csharp"
    },
    "polyglot_notebook": {
     "kernelName": "csharp"
    }
   },
   "outputs": [
    {
     "data": {
      "text/html": [
       "<div class=\"dni-plaintext\"><pre>35184372088832</pre></div><style>\r\n",
       ".dni-code-hint {\r\n",
       "    font-style: italic;\r\n",
       "    overflow: hidden;\r\n",
       "    white-space: nowrap;\r\n",
       "}\r\n",
       ".dni-treeview {\r\n",
       "    white-space: nowrap;\r\n",
       "}\r\n",
       ".dni-treeview td {\r\n",
       "    vertical-align: top;\r\n",
       "    text-align: start;\r\n",
       "}\r\n",
       "details.dni-treeview {\r\n",
       "    padding-left: 1em;\r\n",
       "}\r\n",
       "table td {\r\n",
       "    text-align: start;\r\n",
       "}\r\n",
       "table tr { \r\n",
       "    vertical-align: top; \r\n",
       "    margin: 0em 0px;\r\n",
       "}\r\n",
       "table tr td pre \r\n",
       "{ \r\n",
       "    vertical-align: top !important; \r\n",
       "    margin: 0em 0px !important;\r\n",
       "} \r\n",
       "table th {\r\n",
       "    text-align: start;\r\n",
       "}\r\n",
       "</style>"
      ]
     },
     "metadata": {},
     "output_type": "display_data"
    },
    {
     "data": {
      "text/plain": [
       "01000000000000000"
      ]
     },
     "metadata": {},
     "output_type": "display_data"
    },
    {
     "data": {
      "text/html": [
       "<div class=\"dni-plaintext\"><pre>281474976710655</pre></div><style>\r\n",
       ".dni-code-hint {\r\n",
       "    font-style: italic;\r\n",
       "    overflow: hidden;\r\n",
       "    white-space: nowrap;\r\n",
       "}\r\n",
       ".dni-treeview {\r\n",
       "    white-space: nowrap;\r\n",
       "}\r\n",
       ".dni-treeview td {\r\n",
       "    vertical-align: top;\r\n",
       "    text-align: start;\r\n",
       "}\r\n",
       "details.dni-treeview {\r\n",
       "    padding-left: 1em;\r\n",
       "}\r\n",
       "table td {\r\n",
       "    text-align: start;\r\n",
       "}\r\n",
       "table tr { \r\n",
       "    vertical-align: top; \r\n",
       "    margin: 0em 0px;\r\n",
       "}\r\n",
       "table tr td pre \r\n",
       "{ \r\n",
       "    vertical-align: top !important; \r\n",
       "    margin: 0em 0px !important;\r\n",
       "} \r\n",
       "table th {\r\n",
       "    text-align: start;\r\n",
       "}\r\n",
       "</style>"
      ]
     },
     "metadata": {},
     "output_type": "display_data"
    },
    {
     "data": {
      "text/plain": [
       "07777777777777777"
      ]
     },
     "metadata": {},
     "output_type": "display_data"
    },
    {
     "data": {
      "text/html": [
       "<div class=\"dni-plaintext\"><pre>246290604621823</pre></div><style>\r\n",
       ".dni-code-hint {\r\n",
       "    font-style: italic;\r\n",
       "    overflow: hidden;\r\n",
       "    white-space: nowrap;\r\n",
       "}\r\n",
       ".dni-treeview {\r\n",
       "    white-space: nowrap;\r\n",
       "}\r\n",
       ".dni-treeview td {\r\n",
       "    vertical-align: top;\r\n",
       "    text-align: start;\r\n",
       "}\r\n",
       "details.dni-treeview {\r\n",
       "    padding-left: 1em;\r\n",
       "}\r\n",
       "table td {\r\n",
       "    text-align: start;\r\n",
       "}\r\n",
       "table tr { \r\n",
       "    vertical-align: top; \r\n",
       "    margin: 0em 0px;\r\n",
       "}\r\n",
       "table tr td pre \r\n",
       "{ \r\n",
       "    vertical-align: top !important; \r\n",
       "    margin: 0em 0px !important;\r\n",
       "} \r\n",
       "table th {\r\n",
       "    text-align: start;\r\n",
       "}\r\n",
       "</style>"
      ]
     },
     "metadata": {},
     "output_type": "display_data"
    }
   ],
   "source": [
    "BigInteger minValue = BigInteger.Pow(8, Program.Count - 1);\n",
    "BigInteger maxValue = BigInteger.Pow(8, Program.Count) - 1;\n",
    "\n",
    "display(minValue);\n",
    "display(minValue.ToOctalString());\n",
    "display(maxValue);\n",
    "display(maxValue.ToOctalString());\n",
    "\n",
    "display(maxValue - minValue);"
   ]
  },
  {
   "cell_type": "code",
   "execution_count": null,
   "metadata": {
    "dotnet_interactive": {
     "language": "csharp"
    },
    "polyglot_notebook": {
     "kernelName": "csharp"
    }
   },
   "outputs": [
    {
     "data": {
      "text/html": [
       "<div class=\"dni-plaintext\"><pre>&lt;null&gt;</pre></div><style>\r\n",
       ".dni-code-hint {\r\n",
       "    font-style: italic;\r\n",
       "    overflow: hidden;\r\n",
       "    white-space: nowrap;\r\n",
       "}\r\n",
       ".dni-treeview {\r\n",
       "    white-space: nowrap;\r\n",
       "}\r\n",
       ".dni-treeview td {\r\n",
       "    vertical-align: top;\r\n",
       "    text-align: start;\r\n",
       "}\r\n",
       "details.dni-treeview {\r\n",
       "    padding-left: 1em;\r\n",
       "}\r\n",
       "table td {\r\n",
       "    text-align: start;\r\n",
       "}\r\n",
       "table tr { \r\n",
       "    vertical-align: top; \r\n",
       "    margin: 0em 0px;\r\n",
       "}\r\n",
       "table tr td pre \r\n",
       "{ \r\n",
       "    vertical-align: top !important; \r\n",
       "    margin: 0em 0px !important;\r\n",
       "} \r\n",
       "table th {\r\n",
       "    text-align: start;\r\n",
       "}\r\n",
       "</style>"
      ]
     },
     "metadata": {},
     "output_type": "display_data"
    }
   ],
   "source": [
    "return;\n",
    "\n",
    "int[] octalDigits = new int[Program.Count];\n",
    "for (int exponent = Program.Count - 1; exponent >= 0; exponent--) {\n",
    "    for (int digit = 0; digit < 8; digit ++) {\n",
    "        octalDigits[exponent] = digit;\n",
    "        BigInteger testValue = 0; \n",
    "        for (int i = 0; i < Program.Count; i++) {\n",
    "            testValue += BigInteger.Pow(8, i) * octalDigits[i];\n",
    "        }\n",
    "        if (testValue == 0) continue;\n",
    "\n",
    "        var result = RunProgram(Program, new State() {A = testValue});\n",
    "\n",
    "        // Print(Program.DebugPrint());\n",
    "        // Print(result.DebugPrint());\n",
    "\n",
    "        if (result[Program.Count - 1 - exponent] == Program[Program.Count - 1 - exponent]) {\n",
    "            Print($\"Locking {digit} at {exponent}\");\n",
    "            break;\n",
    "        }\n",
    "        if (digit == 7) {\n",
    "            if (exponent < Program.Count -2) {\n",
    "                exponent++;\n",
    "                digit = octalDigits[exponent];\n",
    "            }\n",
    "        }\n",
    "    }\n",
    "\n",
    "    // display(octalDigits.DebugPrint());\n",
    "}\n",
    "\n",
    "BigInteger value = 0; \n",
    "for (int i = 0; i < Program.Count; i++) {\n",
    "    value += BigInteger.Pow(8, i) * octalDigits[i];\n",
    "}\n",
    "display(value);\n",
    "RunProgram(Program, new State() {A = value}).DebugPrint()"
   ]
  },
  {
   "cell_type": "code",
   "execution_count": null,
   "metadata": {},
   "outputs": [
    {
     "name": "stdout",
     "output_type": "stream",
     "text": [
      "246290604621824\n",
      "P [2, 4, 1, 1, 7, 5, 0, 3, 4, 7, 1, 6, 5, 5, 3, 0]\n",
      "O [7, 7, 7, 7, 7, 7, 7, 7, 7, 7, 7, 7, 7, 7, 3, 0]\n",
      "\n",
      "246290604621824\n",
      "P [2, 4, 1, 1, 7, 5, 0, 3, 4, 7, 1, 6, 5, 5, 3, 0]\n",
      "O [7, 7, 7, 7, 7, 7, 7, 7, 7, 7, 7, 7, 7, 7, 3, 0]\n",
      "\n",
      "247390116249600\n",
      "P [2, 4, 1, 1, 7, 5, 0, 3, 4, 7, 1, 6, 5, 5, 3, 0]\n",
      "O [7, 7, 7, 7, 7, 7, 7, 7, 7, 7, 7, 7, 7, 5, 3, 0]\n",
      "\n",
      "247802433110016\n",
      "P [2, 4, 1, 1, 7, 5, 0, 3, 4, 7, 1, 6, 5, 5, 3, 0]\n",
      "O [7, 7, 7, 7, 7, 7, 7, 7, 7, 7, 7, 7, 5, 5, 3, 0]\n",
      "\n",
      "247836792848384\n",
      "P [2, 4, 1, 1, 7, 5, 0, 3, 4, 7, 1, 6, 5, 5, 3, 0]\n",
      "O [7, 7, 7, 7, 7, 7, 7, 7, 7, 7, 7, 6, 5, 5, 3, 0]\n",
      "\n",
      "247838940332032\n",
      "P [2, 4, 1, 1, 7, 5, 0, 3, 4, 7, 1, 6, 5, 5, 3, 0]\n",
      "O [7, 7, 7, 7, 7, 7, 7, 7, 7, 7, 1, 6, 5, 5, 3, 0]\n",
      "\n",
      "247838940332032\n",
      "P [2, 4, 1, 1, 7, 5, 0, 3, 4, 7, 1, 6, 5, 5, 3, 0]\n",
      "O [7, 7, 7, 7, 7, 7, 7, 7, 7, 7, 1, 6, 5, 5, 3, 0]\n",
      "\n",
      "247838990663680\n",
      "P [2, 4, 1, 1, 7, 5, 0, 3, 4, 7, 1, 6, 5, 5, 3, 0]\n",
      "O [7, 7, 7, 7, 7, 7, 7, 3, 4, 7, 1, 6, 5, 5, 3, 0]\n",
      "\n",
      "247838990663680\n",
      "P [2, 4, 1, 1, 7, 5, 0, 3, 4, 7, 1, 6, 5, 5, 3, 0]\n",
      "O [7, 7, 7, 7, 7, 7, 7, 3, 4, 7, 1, 6, 5, 5, 3, 0]\n",
      "\n",
      "247838992236544\n",
      "P [2, 4, 1, 1, 7, 5, 0, 3, 4, 7, 1, 6, 5, 5, 3, 0]\n",
      "O [7, 7, 7, 7, 7, 7, 0, 3, 4, 7, 1, 6, 5, 5, 3, 0]\n",
      "\n",
      "247838992433152\n",
      "P [2, 4, 1, 1, 7, 5, 0, 3, 4, 7, 1, 6, 5, 5, 3, 0]\n",
      "O [7, 7, 7, 7, 7, 5, 0, 3, 4, 7, 1, 6, 5, 5, 3, 0]\n",
      "\n",
      "247838992433152\n",
      "P [2, 4, 1, 1, 7, 5, 0, 3, 4, 7, 1, 6, 5, 5, 3, 0]\n",
      "O [7, 7, 7, 7, 7, 5, 0, 3, 4, 7, 1, 6, 5, 5, 3, 0]\n",
      "\n",
      "247838992437248\n",
      "P [2, 4, 1, 1, 7, 5, 0, 3, 4, 7, 1, 6, 5, 5, 3, 0]\n",
      "O [7, 7, 7, 3, 7, 5, 0, 3, 4, 7, 1, 6, 5, 5, 3, 0]\n",
      "\n",
      "247838999052288\n",
      "P [2, 4, 1, 1, 7, 5, 0, 3, 4, 7, 1, 6, 5, 5, 3, 0]\n",
      "O [7, 7, 7, 7, 7, 7, 7, 3, 4, 7, 1, 6, 5, 5, 3, 0]\n",
      "\n",
      "247839000625152\n",
      "P [2, 4, 1, 1, 7, 5, 0, 3, 4, 7, 1, 6, 5, 5, 3, 0]\n",
      "O [7, 7, 7, 7, 7, 7, 0, 3, 4, 7, 1, 6, 5, 5, 3, 0]\n",
      "\n",
      "247839001149440\n",
      "P [2, 4, 1, 1, 7, 5, 0, 3, 4, 7, 1, 6, 5, 5, 3, 0]\n",
      "O [7, 7, 7, 7, 7, 7, 3, 3, 4, 7, 1, 6, 5, 5, 3, 0]\n",
      "\n",
      "247839001673728\n",
      "P [2, 4, 1, 1, 7, 5, 0, 3, 4, 7, 1, 6, 5, 5, 3, 0]\n",
      "O [7, 7, 7, 7, 7, 7, 0, 3, 4, 7, 1, 6, 5, 5, 3, 0]\n",
      "\n",
      "247839001903104\n",
      "P [2, 4, 1, 1, 7, 5, 0, 3, 4, 7, 1, 6, 5, 5, 3, 0]\n",
      "O [7, 7, 7, 7, 3, 5, 0, 3, 4, 7, 1, 6, 5, 5, 3, 0]\n",
      "\n",
      "247839001907200\n",
      "P [2, 4, 1, 1, 7, 5, 0, 3, 4, 7, 1, 6, 5, 5, 3, 0]\n",
      "O [7, 7, 7, 3, 7, 5, 0, 3, 4, 7, 1, 6, 5, 5, 3, 0]\n",
      "\n",
      "247839002722304\n",
      "P [2, 4, 1, 1, 7, 5, 0, 3, 4, 7, 1, 6, 5, 5, 3, 0]\n",
      "O [7, 7, 7, 7, 7, 7, 0, 3, 4, 7, 1, 6, 5, 5, 3, 0]\n",
      "\n",
      "247839002886144\n",
      "P [2, 4, 1, 1, 7, 5, 0, 3, 4, 7, 1, 6, 5, 5, 3, 0]\n",
      "O [7, 7, 7, 7, 3, 5, 0, 3, 4, 7, 1, 6, 5, 5, 3, 0]\n",
      "\n",
      "247839002890240\n",
      "P [2, 4, 1, 1, 7, 5, 0, 3, 4, 7, 1, 6, 5, 5, 3, 0]\n",
      "O [7, 7, 7, 3, 7, 5, 0, 3, 4, 7, 1, 6, 5, 5, 3, 0]\n",
      "\n",
      "247839002892288\n",
      "P [2, 4, 1, 1, 7, 5, 0, 3, 4, 7, 1, 6, 5, 5, 3, 0]\n",
      "O [7, 7, 7, 1, 7, 5, 0, 3, 4, 7, 1, 6, 5, 5, 3, 0]\n",
      "\n",
      "247839002892416\n",
      "P [2, 4, 1, 1, 7, 5, 0, 3, 4, 7, 1, 6, 5, 5, 3, 0]\n",
      "O [7, 7, 1, 1, 7, 5, 0, 3, 4, 7, 1, 6, 5, 5, 3, 0]\n",
      "\n",
      "247839002892472\n",
      "P [2, 4, 1, 1, 7, 5, 0, 3, 4, 7, 1, 6, 5, 5, 3, 0]\n",
      "O [3, 4, 1, 1, 7, 5, 0, 3, 4, 7, 1, 6, 5, 5, 3, 0]\n",
      "\n",
      "247839002892474\n",
      "P [2, 4, 1, 1, 7, 5, 0, 3, 4, 7, 1, 6, 5, 5, 3, 0]\n",
      "O [2, 4, 1, 1, 7, 5, 0, 3, 4, 7, 1, 6, 5, 5, 3, 0]\n",
      "\n"
     ]
    }
   ],
   "source": [
    "BigInteger ValueFromOctalDigits(IEnumerable<int> octalDigits) {\n",
    "    BigInteger result = 0;\n",
    "    var digits = octalDigits.ToArray<int>();\n",
    "    for (int i = 0; i < digits.Length; i++) {\n",
    "        result += BigInteger.Pow(8, i) * digits[i];\n",
    "    }\n",
    "    return result;\n",
    "}\n",
    "\n",
    "State AState(BigInteger a) => new State() {A = a};\n",
    "\n",
    "List<int> AlignBelowExponent(int exponent = 0, List<int> known = null) {\n",
    "    // Print($\"Called with {exponent} {known?.DebugPrint()}\");\n",
    "    if (exponent < 0) return known;\n",
    "    int[] knownDigits = known?.ToArray() ?? [];\n",
    "    for (int digit = 0; digit < 8; digit ++) {\n",
    "        List<int> candidate = [..knownDigits, digit];\n",
    "        while (candidate.Count < Program.Count) {\n",
    "            candidate.Add(0);\n",
    "        }\n",
    "        candidate.Reverse();\n",
    "        BigInteger value = ValueFromOctalDigits(candidate);\n",
    "        if (value == 0) continue;\n",
    "\n",
    "        var output = RunProgram(Program, AState(value));\n",
    "        if (output.Count == Program.Count) {\n",
    "            int posToCheck = exponent;\n",
    "            if (output[posToCheck] == Program[posToCheck]) {\n",
    "                Print(value);\n",
    "                Print($\"P {Program.DebugPrint()}\\nO {output.DebugPrint()}\\n\");\n",
    "                \n",
    "\n",
    "                var result = AlignBelowExponent(exponent - 1, [..knownDigits, digit]);\n",
    "                if (result is not null) {\n",
    "                    return result;\n",
    "                }\n",
    "            }\n",
    "        }\n",
    "    }\n",
    "    return null;\n",
    "}\n",
    "\n",
    "var result = AlignBelowExponent(Program.Count - 1);"
   ]
  },
  {
   "cell_type": "code",
   "execution_count": null,
   "metadata": {},
   "outputs": [
    {
     "name": "stdout",
     "output_type": "stream",
     "text": [
      "247839002892474\r\n"
     ]
    },
    {
     "data": {
      "text/html": [
       "<table><thead><tr><th><i>index</i></th><th>value</th></tr></thead><tbody><tr><td>0</td><td><div class=\"dni-plaintext\"><pre>2</pre></div></td></tr><tr><td>1</td><td><div class=\"dni-plaintext\"><pre>4</pre></div></td></tr><tr><td>2</td><td><div class=\"dni-plaintext\"><pre>1</pre></div></td></tr><tr><td>3</td><td><div class=\"dni-plaintext\"><pre>1</pre></div></td></tr><tr><td>4</td><td><div class=\"dni-plaintext\"><pre>7</pre></div></td></tr><tr><td>5</td><td><div class=\"dni-plaintext\"><pre>5</pre></div></td></tr><tr><td>6</td><td><div class=\"dni-plaintext\"><pre>0</pre></div></td></tr><tr><td>7</td><td><div class=\"dni-plaintext\"><pre>3</pre></div></td></tr><tr><td>8</td><td><div class=\"dni-plaintext\"><pre>4</pre></div></td></tr><tr><td>9</td><td><div class=\"dni-plaintext\"><pre>7</pre></div></td></tr><tr><td>10</td><td><div class=\"dni-plaintext\"><pre>1</pre></div></td></tr><tr><td>11</td><td><div class=\"dni-plaintext\"><pre>6</pre></div></td></tr><tr><td>12</td><td><div class=\"dni-plaintext\"><pre>5</pre></div></td></tr><tr><td>13</td><td><div class=\"dni-plaintext\"><pre>5</pre></div></td></tr><tr><td>14</td><td><div class=\"dni-plaintext\"><pre>3</pre></div></td></tr><tr><td>15</td><td><div class=\"dni-plaintext\"><pre>0</pre></div></td></tr></tbody></table><style>\r\n",
       ".dni-code-hint {\r\n",
       "    font-style: italic;\r\n",
       "    overflow: hidden;\r\n",
       "    white-space: nowrap;\r\n",
       "}\r\n",
       ".dni-treeview {\r\n",
       "    white-space: nowrap;\r\n",
       "}\r\n",
       ".dni-treeview td {\r\n",
       "    vertical-align: top;\r\n",
       "    text-align: start;\r\n",
       "}\r\n",
       "details.dni-treeview {\r\n",
       "    padding-left: 1em;\r\n",
       "}\r\n",
       "table td {\r\n",
       "    text-align: start;\r\n",
       "}\r\n",
       "table tr { \r\n",
       "    vertical-align: top; \r\n",
       "    margin: 0em 0px;\r\n",
       "}\r\n",
       "table tr td pre \r\n",
       "{ \r\n",
       "    vertical-align: top !important; \r\n",
       "    margin: 0em 0px !important;\r\n",
       "} \r\n",
       "table th {\r\n",
       "    text-align: start;\r\n",
       "}\r\n",
       "</style>"
      ]
     },
     "metadata": {},
     "output_type": "display_data"
    }
   ],
   "source": [
    "result.Reverse();\n",
    "var answer = ValueFromOctalDigits(result);\n",
    "Print(answer);\n",
    "\n",
    "RunProgram(Program, AState(answer))"
   ]
  }
 ],
 "metadata": {
  "kernelspec": {
   "display_name": ".NET (C#)",
   "language": "C#",
   "name": ".net-csharp"
  },
  "polyglot_notebook": {
   "kernelInfo": {
    "defaultKernelName": "csharp",
    "items": [
     {
      "aliases": [],
      "languageName": "csharp",
      "name": "csharp"
     }
    ]
   }
  }
 },
 "nbformat": 4,
 "nbformat_minor": 2
}
