{
 "cells": [
  {
   "cell_type": "markdown",
   "metadata": {},
   "source": [
    "# Data"
   ]
  },
  {
   "cell_type": "code",
   "execution_count": null,
   "metadata": {
    "dotnet_interactive": {
     "language": "value"
    },
    "polyglot_notebook": {
     "kernelName": "value"
    }
   },
   "outputs": [],
   "source": [
    "#!value --name exampledata"
   ]
  },
  {
   "cell_type": "code",
   "execution_count": null,
   "metadata": {
    "dotnet_interactive": {
     "language": "value"
    },
    "polyglot_notebook": {
     "kernelName": "value"
    }
   },
   "outputs": [],
   "source": [
    "#!value --name data\n"
   ]
  },
  {
   "cell_type": "markdown",
   "metadata": {},
   "source": [
    "# Utilities"
   ]
  },
  {
   "cell_type": "code",
   "execution_count": null,
   "metadata": {
    "dotnet_interactive": {
     "language": "csharp"
    },
    "polyglot_notebook": {
     "kernelName": "csharp"
    }
   },
   "outputs": [],
   "source": [
    "void Print(object s) {\n",
    "    Console.WriteLine(s);\n",
    "}\n",
    "\n",
    "public static string DebugPrint<T>(this IEnumerable<T> self) =>\n",
    "        new StringBuilder(\"[\")\n",
    "            .AppendJoin(\", \", self)\n",
    "            .Append(']')\n",
    "            .ToString();"
   ]
  },
  {
   "cell_type": "markdown",
   "metadata": {},
   "source": [
    "### Imports"
   ]
  },
  {
   "cell_type": "code",
   "execution_count": null,
   "metadata": {
    "dotnet_interactive": {
     "language": "csharp"
    },
    "polyglot_notebook": {
     "kernelName": "csharp"
    }
   },
   "outputs": [],
   "source": [
    "using System;\n",
    "using System.Collections;\n",
    "using System.Text.RegularExpressions;\n",
    "using System.Linq;\n",
    "using System.Diagnostics;\n",
    "using System.Numerics;"
   ]
  },
  {
   "cell_type": "markdown",
   "metadata": {},
   "source": [
    "### Data Selector"
   ]
  },
  {
   "cell_type": "code",
   "execution_count": null,
   "metadata": {
    "dotnet_interactive": {
     "language": "csharp"
    },
    "polyglot_notebook": {
     "kernelName": "csharp"
    }
   },
   "outputs": [],
   "source": [
    "#!set --name fullData --value @value:data\n",
    "#!set --name partialData --value @value:exampledata\n",
    "\n",
    "var rawdata = partialData;\n",
    "var data = rawdata.ReplaceLineEndings(\"\\n\");"
   ]
  },
  {
   "cell_type": "markdown",
   "metadata": {},
   "source": [
    "# Part 1"
   ]
  }
 ],
 "metadata": {
  "kernelspec": {
   "display_name": ".NET (C#)",
   "language": "C#",
   "name": ".net-csharp"
  },
  "polyglot_notebook": {
   "kernelInfo": {
    "defaultKernelName": "csharp",
    "items": [
     {
      "aliases": [],
      "languageName": "csharp",
      "name": "csharp"
     }
    ]
   }
  }
 },
 "nbformat": 4,
 "nbformat_minor": 2
}
