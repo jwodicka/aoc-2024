{
 "cells": [
  {
   "cell_type": "markdown",
   "metadata": {},
   "source": [
    "# Data"
   ]
  },
  {
   "cell_type": "code",
   "execution_count": null,
   "metadata": {
    "dotnet_interactive": {
     "language": "value"
    },
    "polyglot_notebook": {
     "kernelName": "value"
    }
   },
   "outputs": [],
   "source": [
    "#!value --name exampledata\n",
    "029A\n",
    "980A\n",
    "179A\n",
    "456A\n",
    "379A"
   ]
  },
  {
   "cell_type": "code",
   "execution_count": null,
   "metadata": {
    "dotnet_interactive": {
     "language": "value"
    },
    "polyglot_notebook": {
     "kernelName": "value"
    }
   },
   "outputs": [],
   "source": [
    "#!value --name data\n",
    "463A\n",
    "340A\n",
    "129A\n",
    "083A\n",
    "341A"
   ]
  },
  {
   "cell_type": "markdown",
   "metadata": {},
   "source": [
    "# Utilities"
   ]
  },
  {
   "cell_type": "code",
   "execution_count": null,
   "metadata": {
    "dotnet_interactive": {
     "language": "csharp"
    },
    "polyglot_notebook": {
     "kernelName": "csharp"
    }
   },
   "outputs": [],
   "source": [
    "void Print(object s) {\n",
    "    Console.WriteLine(s);\n",
    "}\n",
    "\n",
    "public static string DebugPrint<T>(this IEnumerable<T> self) =>\n",
    "        new StringBuilder(\"[\")\n",
    "            .AppendJoin(\", \", self)\n",
    "            .Append(']')\n",
    "            .ToString();"
   ]
  },
  {
   "cell_type": "markdown",
   "metadata": {},
   "source": [
    "### Imports"
   ]
  },
  {
   "cell_type": "code",
   "execution_count": null,
   "metadata": {
    "dotnet_interactive": {
     "language": "csharp"
    },
    "polyglot_notebook": {
     "kernelName": "csharp"
    }
   },
   "outputs": [],
   "source": [
    "using System;\n",
    "using System.Collections;\n",
    "using System.Text.RegularExpressions;\n",
    "using System.Linq;\n",
    "using System.Diagnostics;\n",
    "using System.Numerics;"
   ]
  },
  {
   "cell_type": "markdown",
   "metadata": {},
   "source": [
    "### Data Selector"
   ]
  },
  {
   "cell_type": "code",
   "execution_count": null,
   "metadata": {
    "dotnet_interactive": {
     "language": "csharp"
    },
    "polyglot_notebook": {
     "kernelName": "csharp"
    }
   },
   "outputs": [],
   "source": [
    "#!set --name fullData --value @value:data\n",
    "#!set --name partialData --value @value:exampledata\n",
    "\n",
    "var rawdata = fullData;\n",
    "var data = rawdata.ReplaceLineEndings(\"\\n\");"
   ]
  },
  {
   "cell_type": "markdown",
   "metadata": {},
   "source": [
    "# Part 1"
   ]
  },
  {
   "cell_type": "markdown",
   "metadata": {},
   "source": [
    "```\n",
    "+---+---+---+\n",
    "| 7 | 8 | 9 |\n",
    "+---+---+---+\n",
    "| 4 | 5 | 6 |\n",
    "+---+---+---+\n",
    "| 1 | 2 | 3 |\n",
    "+---+---+---+\n",
    "    | 0 | A |\n",
    "    +---+---+\n",
    "```\n",
    "\n",
    "```\n",
    "    +---+---+\n",
    "    | ^ | A |\n",
    "+---+---+---+\n",
    "| < | v | > |\n",
    "+---+---+---+\n",
    "```"
   ]
  },
  {
   "cell_type": "code",
   "execution_count": null,
   "metadata": {
    "dotnet_interactive": {
     "language": "csharp"
    },
    "polyglot_notebook": {
     "kernelName": "csharp"
    }
   },
   "outputs": [],
   "source": [
    "#!import coord.ipynb\n",
    "\n",
    "// Function: Given a keypad and a sequence, output groups of sequences by length that would produce the target sequence.\n",
    "// Represent keys as characters.\n",
    "\n",
    "// A sequence is a set of pair-transitions. If we are on a given key, getting to another specified key always has a given best length.\n",
    "\n",
    "char[][] NumericPad = [\n",
    "    ['7', '8', '9'],\n",
    "    ['4', '5', '6'],\n",
    "    ['1', '2', '3'],\n",
    "    ['X', '0', 'A']];\n",
    "\n",
    "char[][] DirectionPad = [\n",
    "    ['X', '^', 'A'],\n",
    "    ['<', 'v', '>']];\n",
    "\n",
    "Coord FindSymbol(char[][] map, char symbol) {\n",
    "    for(int r = 0; r < map.Length; r++) {\n",
    "        for(int c = 0; c < map[r].Length; c++) {\n",
    "            if (map[r][c] == symbol) {\n",
    "                return (r, c);\n",
    "            }\n",
    "        }\n",
    "    }\n",
    "    throw new System.InvalidOperationException(\"No Symbol?!\");\n",
    "}\n",
    "\n",
    "var numerics = NumericPad.SelectMany(n => n).Where(n => n != 'X');\n",
    "var directions = DirectionPad.SelectMany(d => d).Where(d => d != 'X');"
   ]
  },
  {
   "cell_type": "code",
   "execution_count": null,
   "metadata": {
    "dotnet_interactive": {
     "language": "csharp"
    },
    "polyglot_notebook": {
     "kernelName": "csharp"
    }
   },
   "outputs": [],
   "source": [
    "using Transition = (char from, char to);\n",
    "\n",
    "Dictionary<Transition, List<string>> bestNumericPath = [];\n",
    "foreach(char from in numerics) {\n",
    "    foreach(char to in numerics) {\n",
    "        Coord fromPos = FindSymbol(NumericPad, from);\n",
    "        Coord toPos = FindSymbol(NumericPad, to);\n",
    "        Coord bannedPos = FindSymbol(NumericPad, 'X');\n",
    "\n",
    "        List<string> RecursivePathFrom(Coord pos) {\n",
    "            // Print($\"RPF {pos}\");\n",
    "            if (pos == toPos) return [\"A\"];\n",
    "            Coord delta = Subtract(toPos, pos);\n",
    "            List<string> results = [];\n",
    "            switch(Math.Sign(delta.R)) {\n",
    "                case 1:\n",
    "                    Coord targetDown = Add(pos, (1, 0));\n",
    "                    if (targetDown != bannedPos) {\n",
    "                        results.AddRange(RecursivePathFrom(targetDown).Select(path => $\"v{path}\"));\n",
    "                    }\n",
    "                    break;\n",
    "                case -1:\n",
    "                    Coord targetUp = Add(pos, (-1, 0));\n",
    "                    if (targetUp != bannedPos) {\n",
    "                        results.AddRange(RecursivePathFrom(targetUp).Select(path => $\"^{path}\"));\n",
    "                    }\n",
    "                    break;\n",
    "            }\n",
    "            switch(Math.Sign(delta.C)) {\n",
    "                case 1:\n",
    "                    Coord targetRight = Add(pos, (0, 1));\n",
    "                    if (targetRight != bannedPos) {\n",
    "                        results.AddRange(RecursivePathFrom(targetRight).Select(path => $\">{path}\"));\n",
    "                    }\n",
    "                    break;\n",
    "                case -1:\n",
    "                    Coord targetLeft = Add(pos, (0, -1));\n",
    "                    if (targetLeft != bannedPos) {\n",
    "                        results.AddRange(RecursivePathFrom(targetLeft).Select(path => $\"<{path}\"));\n",
    "                    }\n",
    "                    break;\n",
    "            }\n",
    "            return results;\n",
    "        }\n",
    "        // Print($\"Path from {from} -> {to}:  {fromPos} -> {toPos}\");\n",
    "        var result = RecursivePathFrom(fromPos);\n",
    "        // display(result);\n",
    "        bestNumericPath.Add((from, to), result);\n",
    "    }\n",
    "}\n",
    "\n",
    "Dictionary<Transition, List<string>> bestDirectionalPath = [];\n",
    "foreach(char from in directions) {\n",
    "    foreach(char to in directions) {\n",
    "        Coord fromPos = FindSymbol(DirectionPad, from);\n",
    "        Coord toPos = FindSymbol(DirectionPad, to);\n",
    "        Coord bannedPos = FindSymbol(DirectionPad, 'X');\n",
    "\n",
    "        List<string> RecursivePathFrom(Coord pos) {\n",
    "            // Print($\"RPF {pos}\");\n",
    "            if (pos == toPos) return [\"A\"];\n",
    "            Coord delta = Subtract(toPos, pos);\n",
    "            List<string> results = [];\n",
    "            switch(Math.Sign(delta.R)) {\n",
    "                case 1:\n",
    "                    Coord targetDown = Add(pos, (1, 0));\n",
    "                    if (targetDown != bannedPos) {\n",
    "                        results.AddRange(RecursivePathFrom(targetDown).Select(path => $\"v{path}\"));\n",
    "                    }\n",
    "                    break;\n",
    "                case -1:\n",
    "                    Coord targetUp = Add(pos, (-1, 0));\n",
    "                    if (targetUp != bannedPos) {\n",
    "                        results.AddRange(RecursivePathFrom(targetUp).Select(path => $\"^{path}\"));\n",
    "                    }\n",
    "                    break;\n",
    "            }\n",
    "            switch(Math.Sign(delta.C)) {\n",
    "                case 1:\n",
    "                    Coord targetRight = Add(pos, (0, 1));\n",
    "                    if (targetRight != bannedPos) {\n",
    "                        results.AddRange(RecursivePathFrom(targetRight).Select(path => $\">{path}\"));\n",
    "                    }\n",
    "                    break;\n",
    "                case -1:\n",
    "                    Coord targetLeft = Add(pos, (0, -1));\n",
    "                    if (targetLeft != bannedPos) {\n",
    "                        results.AddRange(RecursivePathFrom(targetLeft).Select(path => $\"<{path}\"));\n",
    "                    }\n",
    "                    break;\n",
    "            }\n",
    "            return results;\n",
    "        }\n",
    "        // Print($\"Path from {from} -> {to}:  {fromPos} -> {toPos}\");\n",
    "        var result = RecursivePathFrom(fromPos);\n",
    "        // display(result);\n",
    "        bestDirectionalPath.Add((from, to), result);\n",
    "    }\n",
    "}\n",
    "\n",
    "List<string> BestPathsForNumericSequence(string sequence) {\n",
    "    IEnumerable<string> result = [\"\"];\n",
    "    for(int i = 0; i < sequence.Length - 1; i++) {\n",
    "        var stepPaths = bestNumericPath[(sequence[i], sequence[i+1])];\n",
    "        result = result.SelectMany(prefix => stepPaths.Select(suffix => prefix + suffix));\n",
    "    }\n",
    "    return result.ToList();\n",
    "}\n",
    "List<string> BestPathsForDirectionalSequence(string sequence) {\n",
    "    IEnumerable<string> result = [\"\"];\n",
    "    for(int i = 0; i < sequence.Length - 1; i++) {\n",
    "        var stepPaths = bestDirectionalPath[(sequence[i], sequence[i+1])];\n",
    "        result = result.SelectMany(prefix => stepPaths.Select(suffix => prefix + suffix));\n",
    "    }\n",
    "    return result.ToList();\n",
    "}\n",
    "\n",
    "// BestPathsForNumericSequence(\"759\");\n",
    "// BestPathsForDirectionalSequence(\"A<\");\n"
   ]
  },
  {
   "cell_type": "code",
   "execution_count": null,
   "metadata": {
    "dotnet_interactive": {
     "language": "csharp"
    },
    "polyglot_notebook": {
     "kernelName": "csharp"
    }
   },
   "outputs": [],
   "source": [
    "IEnumerable<string> LayerUp(IEnumerable<string> sequences) {\n",
    "    var candidates = sequences.SelectMany(seq => BestPathsForDirectionalSequence(\"A\" + seq));\n",
    "    int bestLength = candidates.MinBy(seq => seq.Length).Length;\n",
    "    return candidates.Where(seq => seq.Length == bestLength);\n",
    "}\n",
    "\n",
    "// foreach (string sequence in data.Split(\"\\n\")) {\n",
    "//     var vacBot = BestPathsForNumericSequence(\"A\" + sequence);\n",
    "//     Print($\"vacBot entries {vacBot.Count()}\");\n",
    "//     var radBot = LayerUp(vacBot);\n",
    "//     Print($\"radBot entries {radBot.Count()}\");\n",
    "//     var coldBot = LayerUp(radBot);\n",
    "//     Print($\"coldBot entries {coldBot.Count()}\");\n",
    "//     var me = LayerUp(coldBot);\n",
    "//     Print($\"me entries {me.Count()}\");\n",
    "// }"
   ]
  },
  {
   "cell_type": "code",
   "execution_count": null,
   "metadata": {
    "dotnet_interactive": {
     "language": "csharp"
    },
    "polyglot_notebook": {
     "kernelName": "csharp"
    }
   },
   "outputs": [],
   "source": [
    "Dictionary<Transition, List<string>> bestLevel1Path = [];\n",
    "foreach(var (key, value) in bestNumericPath) {\n",
    "    var shortestPaths = LayerUp(value);\n",
    "    bestLevel1Path[key] = shortestPaths.ToList();\n",
    "}\n",
    "Dictionary<Transition, List<string>> bestLevel2Path = [];\n",
    "foreach(var (key, value) in bestLevel1Path) {\n",
    "    var shortestPaths = LayerUp(value);\n",
    "    bestLevel2Path[key] = shortestPaths.ToList();\n",
    "}\n",
    "// Dictionary<Transition, List<string>> bestLevel3Path = [];\n",
    "// foreach(var (key, value) in bestLevel2Path) {\n",
    "//     var shortestPaths = LayerUp(value);\n",
    "//     bestLevel3Path[key] = shortestPaths.ToList();\n",
    "// }\n",
    "\n",
    "int BestL2PathLengthForNumericSequence(string sequence) {\n",
    "    int result = 0;\n",
    "    for(int i = 0; i < sequence.Length - 1; i++) {\n",
    "        var stepPaths = bestLevel2Path[(sequence[i], sequence[i+1])];\n",
    "        result += stepPaths.First().Length;\n",
    "    }\n",
    "    return result;\n",
    "}\n",
    "\n",
    "// int BestL3PathLengthForNumericSequence(string sequence) {\n",
    "//     int result = 0;\n",
    "//     for(int i = 0; i < sequence.Length - 1; i++) {\n",
    "//         var stepPaths = bestLevel3Path[(sequence[i], sequence[i+1])];\n",
    "//         result += stepPaths.First().Length;\n",
    "//     }\n",
    "//     return result;\n",
    "// }"
   ]
  },
  {
   "cell_type": "code",
   "execution_count": null,
   "metadata": {
    "dotnet_interactive": {
     "language": "csharp"
    },
    "polyglot_notebook": {
     "kernelName": "csharp"
    }
   },
   "outputs": [],
   "source": [
    "BigInteger answer = 0;\n",
    "foreach (string sequence in data.Split(\"\\n\")) {\n",
    "    var value = int.Parse(sequence.TrimEnd('A'));\n",
    "    var result = BestL2PathLengthForNumericSequence(\"A\" + sequence);\n",
    "    // display($\"{value} {result}\");\n",
    "    BigInteger complexity = value * result;\n",
    "    answer += complexity;\n",
    "}\n",
    "answer"
   ]
  },
  {
   "cell_type": "markdown",
   "metadata": {},
   "source": [
    "# Part 2\n"
   ]
  },
  {
   "cell_type": "code",
   "execution_count": null,
   "metadata": {
    "dotnet_interactive": {
     "language": "csharp"
    },
    "polyglot_notebook": {
     "kernelName": "csharp"
    }
   },
   "outputs": [],
   "source": [
    "// How much longer does a given transition get when we layer up?\n",
    "\n",
    "Dictionary<Transition, List<string>> bestDirectionalMetaPath = [];\n",
    "foreach(var (key, value) in bestDirectionalPath) {\n",
    "    var shortestPaths = LayerUp(value);\n",
    "    bestDirectionalMetaPath[key] = shortestPaths.ToList();\n",
    "}\n",
    "Dictionary<Transition, int> bestTransitionCost = [];\n",
    "foreach(var (key, value) in bestDirectionalPath) {\n",
    "    bestTransitionCost[key] = bestDirectionalMetaPath[key].First().Length;\n",
    "}\n",
    "\n",
    "// Shorter paths are better than longer paths.\n",
    "// Paths with smaller transition-expansions are better than larger, length being"
   ]
  },
  {
   "cell_type": "code",
   "execution_count": null,
   "metadata": {
    "dotnet_interactive": {
     "language": "csharp"
    },
    "polyglot_notebook": {
     "kernelName": "csharp"
    }
   },
   "outputs": [],
   "source": [
    "int GetTransitionCost(string dSequence) {\n",
    "    int cost = 0;\n",
    "    for(int i = 0; i<dSequence.Length; i++) {\n",
    "        char prev = i > 0 ? dSequence[i-1] : 'A';\n",
    "        char next = dSequence[i];\n",
    "        cost += bestTransitionCost[(prev, next)];\n",
    "    }\n",
    "    return cost;\n",
    "}"
   ]
  },
  {
   "cell_type": "code",
   "execution_count": null,
   "metadata": {
    "dotnet_interactive": {
     "language": "csharp"
    },
    "polyglot_notebook": {
     "kernelName": "csharp"
    }
   },
   "outputs": [],
   "source": [
    "Dictionary<Transition, List<string>> prunedBestNumericPath = [];\n",
    "foreach(var (key, value) in bestNumericPath) {\n",
    "    int optimalTransitionCost = value.Select(GetTransitionCost).Min();\n",
    "    prunedBestNumericPath[key] = value.Where(seq => GetTransitionCost(seq) == optimalTransitionCost).ToList();\n",
    "}\n",
    "Dictionary<Transition, List<string>> prunedBestDirectionalPath = [];\n",
    "foreach(var (key, value) in bestDirectionalPath) {\n",
    "    int optimalTransitionCost = value.Select(GetTransitionCost).Min();\n",
    "    prunedBestDirectionalPath[key] = value.Where(seq => GetTransitionCost(seq) == optimalTransitionCost).ToList();\n",
    "}\n",
    "\n",
    "List<string> SmarterBestPathsForNumericSequence(string sequence) {\n",
    "    IEnumerable<string> result = [\"\"];\n",
    "    for(int i = 0; i < sequence.Length - 1; i++) {\n",
    "        var stepPaths = prunedBestNumericPath[(sequence[i], sequence[i+1])];\n",
    "        result = result.SelectMany(prefix => stepPaths.Select(suffix => prefix + suffix));\n",
    "    }\n",
    "    return result.ToList();\n",
    "}\n",
    "List<string> SmarterBestPathsForDirectionalSequence(string sequence) {\n",
    "    IEnumerable<string> result = [\"\"];\n",
    "    for(int i = 0; i < sequence.Length - 1; i++) {\n",
    "        var stepPaths = prunedBestDirectionalPath[(sequence[i], sequence[i+1])];\n",
    "        result = result.SelectMany(prefix => stepPaths.Select(suffix => prefix + suffix));\n",
    "    }\n",
    "    return result.ToList();\n",
    "}\n",
    "IEnumerable<string> SmarterLayerUp(IEnumerable<string> sequences) {\n",
    "    var candidates = sequences.SelectMany(seq => SmarterBestPathsForDirectionalSequence(\"A\" + seq));\n",
    "    int bestLength = candidates.MinBy(seq => seq.Length).Length;\n",
    "    return candidates.Where(seq => seq.Length == bestLength);\n",
    "}"
   ]
  },
  {
   "cell_type": "code",
   "execution_count": null,
   "metadata": {
    "dotnet_interactive": {
     "language": "csharp"
    },
    "polyglot_notebook": {
     "kernelName": "csharp"
    }
   },
   "outputs": [],
   "source": [
    "// foreach (string sequence in data.Split(\"\\n\")) {\n",
    "//     IEnumerable<string> layer = SmarterBestPathsForNumericSequence(\"A\" + sequence);\n",
    "//     for (int i = 0; i < 5; i++) {\n",
    "//         layer = SmarterLayerUp(layer);\n",
    "//         Print($\"i:{i}  {layer.Count()}\");\n",
    "//     }\n",
    "//     return layer;\n",
    "// }"
   ]
  },
  {
   "cell_type": "code",
   "execution_count": null,
   "metadata": {
    "dotnet_interactive": {
     "language": "csharp"
    },
    "polyglot_notebook": {
     "kernelName": "csharp"
    }
   },
   "outputs": [],
   "source": [
    "// BigInteger answer = 0;\n",
    "// foreach (string sequence in data.Split(\"\\n\")) {\n",
    "//     var value = int.Parse(sequence.TrimEnd('A'));\n",
    "//     var result = BestL2PathLengthForNumericSequence(\"A\" + sequence);\n",
    "//     // display($\"{value} {result}\");\n",
    "//     BigInteger complexity = value * result;\n",
    "//     answer += complexity;\n",
    "// }\n",
    "// answer"
   ]
  },
  {
   "cell_type": "markdown",
   "metadata": {},
   "source": [
    "## What if we recompute the transition costs until they stabilize?"
   ]
  },
  {
   "cell_type": "code",
   "execution_count": null,
   "metadata": {
    "dotnet_interactive": {
     "language": "csharp"
    },
    "polyglot_notebook": {
     "kernelName": "csharp"
    }
   },
   "outputs": [],
   "source": [
    "// Prune directional paths based on both length and transition cost.\n",
    "// (Done above)\n",
    "\n",
    "// Recalculate transition cost based on the pruned paths.\n",
    "Dictionary<Transition, int> recursiveTransitionCost = [];\n",
    "Dictionary<Transition, List<string>> recursiveDirectionalMetaPath = [];\n",
    "foreach(var (key, value) in prunedBestDirectionalPath) {\n",
    "    var shortestPaths = LayerUp(value);\n",
    "    recursiveDirectionalMetaPath[key] = shortestPaths.ToList();\n",
    "}\n",
    "foreach(var (key, value) in prunedBestDirectionalPath) {\n",
    "    recursiveTransitionCost[key] = recursiveDirectionalMetaPath[key].First().Length;\n",
    "}\n",
    "Dictionary<Transition, List<string>> reprunedBestDirectionalPath = [];\n",
    "int GetRecursiveTransitionCost(string dSequence) {\n",
    "    int cost = 0;\n",
    "    for(int i = 0; i<dSequence.Length; i++) {\n",
    "        char prev = i > 0 ? dSequence[i-1] : 'A';\n",
    "        char next = dSequence[i];\n",
    "        cost += recursiveTransitionCost[(prev, next)];\n",
    "    }\n",
    "    return cost;\n",
    "}\n",
    "foreach(var (key, value) in prunedBestDirectionalPath) {\n",
    "    int optimalTransitionCost = value\n",
    "        .Select(GetRecursiveTransitionCost)\n",
    "        .Min();\n",
    "    reprunedBestDirectionalPath[key] = value\n",
    "        .Where(\n",
    "            seq => GetRecursiveTransitionCost(seq) == optimalTransitionCost\n",
    "        ).ToList();\n",
    "}\n",
    "\n",
    "bool changed = false;\n",
    "do {\n",
    "    changed = false;\n",
    "    foreach(var (key, value) in reprunedBestDirectionalPath) {\n",
    "        var shortestPaths = LayerUp(value);\n",
    "        recursiveDirectionalMetaPath[key] = shortestPaths.ToList();\n",
    "    }\n",
    "    foreach(var (key, value) in reprunedBestDirectionalPath) {\n",
    "        recursiveTransitionCost[key] = recursiveDirectionalMetaPath[key].First().Length;\n",
    "    }\n",
    "    foreach(var (key, value) in reprunedBestDirectionalPath) {\n",
    "        int optimalTransitionCost = value\n",
    "            .Select(GetRecursiveTransitionCost)\n",
    "            .Min();\n",
    "        var newValue = value.Where(\n",
    "            seq => GetRecursiveTransitionCost(seq) == optimalTransitionCost\n",
    "        );\n",
    "        if (newValue.Count() < value.Count) {\n",
    "            reprunedBestDirectionalPath[key] = newValue.ToList();\n",
    "        }\n",
    "    }\n",
    "    display(changed);\n",
    "} while (changed);\n",
    "\n"
   ]
  }
 ],
 "metadata": {
  "kernelspec": {
   "display_name": ".NET (C#)",
   "language": "C#",
   "name": ".net-csharp"
  },
  "polyglot_notebook": {
   "kernelInfo": {
    "defaultKernelName": "csharp",
    "items": [
     {
      "aliases": [],
      "languageName": "csharp",
      "name": "csharp"
     }
    ]
   }
  }
 },
 "nbformat": 4,
 "nbformat_minor": 2
}
