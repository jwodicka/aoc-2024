{
 "cells": [
  {
   "cell_type": "code",
   "execution_count": null,
   "metadata": {},
   "outputs": [],
   "source": [
    "using Coord = (int R, int C);\n",
    "using System.Collections.Generic;"
   ]
  },
  {
   "cell_type": "code",
   "execution_count": null,
   "metadata": {
    "dotnet_interactive": {
     "language": "csharp"
    },
    "polyglot_notebook": {
     "kernelName": "csharp"
    }
   },
   "outputs": [],
   "source": [
    "bool IsInBounds(Coord c, (int Width, int Height) size) {\n",
    "    if (c.R < 0 || c.C < 0) return false;\n",
    "    if (c.R >= size.Width || c.C >= size.Height) return false;\n",
    "    return true;\n",
    "}\n",
    "\n",
    "public static Coord Add(Coord a, Coord b) => (a.R + b.R, a.C + b.C);\n",
    "public static Coord Subtract(Coord a, Coord b) => (a.R - b.R, a.C - b.C);\n",
    "\n",
    "Coord[] CardinalDirections = [(0, +1), (0, -1), (+1, 0), (-1, 0)];\n",
    "\n",
    "IEnumerable<Coord> Neighbors(Coord c) => CardinalDirections.Select(cd => Add(c, cd));"
   ]
  }
 ],
 "metadata": {
  "kernelspec": {
   "display_name": ".NET (C#)",
   "language": "C#",
   "name": ".net-csharp"
  },
  "polyglot_notebook": {
   "kernelInfo": {
    "defaultKernelName": "csharp",
    "items": [
     {
      "aliases": [],
      "languageName": "csharp",
      "name": "csharp"
     }
    ]
   }
  }
 },
 "nbformat": 4,
 "nbformat_minor": 2
}
